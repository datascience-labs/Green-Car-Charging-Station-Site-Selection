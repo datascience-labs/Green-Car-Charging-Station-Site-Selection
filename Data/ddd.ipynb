{
 "cells": [
  {
   "cell_type": "code",
   "execution_count": 1,
   "metadata": {
    "collapsed": true
   },
   "outputs": [],
   "source": [
    "import pandas as pd\n",
    "import folium"
   ]
  },
  {
   "cell_type": "code",
   "execution_count": 2,
   "metadata": {
    "collapsed": false,
    "pycharm": {
     "name": "#%%\n"
    }
   },
   "outputs": [],
   "source": [
    "df_parkinglot = pd.read_csv(\"부산 LPG 충전소 현황.csv\", encoding='cp949')\n",
    "df_parkinglot.drop_duplicates(['위도'], inplace=True)\n"
   ]
  },
  {
   "cell_type": "code",
   "execution_count": 3,
   "metadata": {},
   "outputs": [
    {
     "data": {
      "text/html": [
       "<div>\n",
       "<style scoped>\n",
       "    .dataframe tbody tr th:only-of-type {\n",
       "        vertical-align: middle;\n",
       "    }\n",
       "\n",
       "    .dataframe tbody tr th {\n",
       "        vertical-align: top;\n",
       "    }\n",
       "\n",
       "    .dataframe thead th {\n",
       "        text-align: right;\n",
       "    }\n",
       "</style>\n",
       "<table border=\"1\" class=\"dataframe\">\n",
       "  <thead>\n",
       "    <tr style=\"text-align: right;\">\n",
       "      <th></th>\n",
       "      <th>행정구역</th>\n",
       "      <th>업소명</th>\n",
       "      <th>소재지</th>\n",
       "      <th>관리구분</th>\n",
       "      <th>위도</th>\n",
       "      <th>경도</th>\n",
       "      <th>면적</th>\n",
       "      <th>공시지가</th>\n",
       "      <th>주변충전소 최단거리</th>\n",
       "    </tr>\n",
       "  </thead>\n",
       "  <tbody>\n",
       "    <tr>\n",
       "      <th>0</th>\n",
       "      <td>부산 강서구</td>\n",
       "      <td>개인택시신공항충전소</td>\n",
       "      <td>부산 강서구 경전철로188번길 95</td>\n",
       "      <td>자동차충전</td>\n",
       "      <td>35.198669</td>\n",
       "      <td>128.966594</td>\n",
       "      <td>2545.0</td>\n",
       "      <td>2144000.0</td>\n",
       "      <td>6.175720</td>\n",
       "    </tr>\n",
       "    <tr>\n",
       "      <th>1</th>\n",
       "      <td>부산 강서구</td>\n",
       "      <td>부산공항LPG충전소</td>\n",
       "      <td>부산 강서구 공항로 459</td>\n",
       "      <td>자동차충전</td>\n",
       "      <td>35.149064</td>\n",
       "      <td>128.951891</td>\n",
       "      <td>3105.0</td>\n",
       "      <td>1174000.0</td>\n",
       "      <td>3.270797</td>\n",
       "    </tr>\n",
       "    <tr>\n",
       "      <th>2</th>\n",
       "      <td>부산 강서구</td>\n",
       "      <td>신항만에너지</td>\n",
       "      <td>부산 강서구 낙동남로 507</td>\n",
       "      <td>자동차충전</td>\n",
       "      <td>35.112947</td>\n",
       "      <td>128.875260</td>\n",
       "      <td>3105.0</td>\n",
       "      <td>1174000.0</td>\n",
       "      <td>2.907968</td>\n",
       "    </tr>\n",
       "    <tr>\n",
       "      <th>3</th>\n",
       "      <td>부산 강서구</td>\n",
       "      <td>(주)지원네트웍스 부산강서LPG충전소</td>\n",
       "      <td>부산 강서구 낙동북로 310</td>\n",
       "      <td>자동차충전</td>\n",
       "      <td>35.212507</td>\n",
       "      <td>128.962572</td>\n",
       "      <td>1396.0</td>\n",
       "      <td>1140000.0</td>\n",
       "      <td>7.752939</td>\n",
       "    </tr>\n",
       "    <tr>\n",
       "      <th>4</th>\n",
       "      <td>부산 강서구</td>\n",
       "      <td>신명지에너지</td>\n",
       "      <td>부산 강서구 르노삼성대로 560</td>\n",
       "      <td>자동차충전</td>\n",
       "      <td>35.097554</td>\n",
       "      <td>128.927351</td>\n",
       "      <td>481.0</td>\n",
       "      <td>700300.0</td>\n",
       "      <td>7.676891</td>\n",
       "    </tr>\n",
       "    <tr>\n",
       "      <th>...</th>\n",
       "      <td>...</td>\n",
       "      <td>...</td>\n",
       "      <td>...</td>\n",
       "      <td>...</td>\n",
       "      <td>...</td>\n",
       "      <td>...</td>\n",
       "      <td>...</td>\n",
       "      <td>...</td>\n",
       "      <td>...</td>\n",
       "    </tr>\n",
       "    <tr>\n",
       "      <th>58</th>\n",
       "      <td>부산 연제구</td>\n",
       "      <td>부산개인택시엘피지충전소</td>\n",
       "      <td>부산 연제구 월드컵대로 399</td>\n",
       "      <td>자동차충전</td>\n",
       "      <td>35.186013</td>\n",
       "      <td>129.055974</td>\n",
       "      <td>9212.0</td>\n",
       "      <td>688600.0</td>\n",
       "      <td>7.648635</td>\n",
       "    </tr>\n",
       "    <tr>\n",
       "      <th>59</th>\n",
       "      <td>부산 영도구</td>\n",
       "      <td>(주)태종에너지</td>\n",
       "      <td>부산 영도구 영선대로 41</td>\n",
       "      <td>자동차충전</td>\n",
       "      <td>35.084996</td>\n",
       "      <td>129.040033</td>\n",
       "      <td>1610.2</td>\n",
       "      <td>2679000.0</td>\n",
       "      <td>8.277014</td>\n",
       "    </tr>\n",
       "    <tr>\n",
       "      <th>60</th>\n",
       "      <td>부산 영도구</td>\n",
       "      <td>부산에너지</td>\n",
       "      <td>부산 영도구 해양로 160</td>\n",
       "      <td>용기+자동차+탱크+13kg용기</td>\n",
       "      <td>35.091275</td>\n",
       "      <td>129.069484</td>\n",
       "      <td>5801.0</td>\n",
       "      <td>989400.0</td>\n",
       "      <td>9.604391</td>\n",
       "    </tr>\n",
       "    <tr>\n",
       "      <th>61</th>\n",
       "      <td>부산 영도구</td>\n",
       "      <td>개인택시 영도LPG충전소</td>\n",
       "      <td>부산 영도구 해양로 296</td>\n",
       "      <td>자동차충전</td>\n",
       "      <td>35.082176</td>\n",
       "      <td>129.076429</td>\n",
       "      <td>1818.0</td>\n",
       "      <td>349800.0</td>\n",
       "      <td>10.740567</td>\n",
       "    </tr>\n",
       "    <tr>\n",
       "      <th>62</th>\n",
       "      <td>부산 해운대구</td>\n",
       "      <td>이원 해운대LPG충전소</td>\n",
       "      <td>부산 해운대구 해운대로 1255</td>\n",
       "      <td>용기+자동차+탱크+13kg용기</td>\n",
       "      <td>35.196728</td>\n",
       "      <td>129.205260</td>\n",
       "      <td>3700.0</td>\n",
       "      <td>1607000.0</td>\n",
       "      <td>14.679740</td>\n",
       "    </tr>\n",
       "  </tbody>\n",
       "</table>\n",
       "<p>63 rows × 9 columns</p>\n",
       "</div>"
      ],
      "text/plain": [
       "       행정구역                   업소명                  소재지              관리구분  \\\n",
       "0    부산 강서구            개인택시신공항충전소  부산 강서구 경전철로188번길 95             자동차충전   \n",
       "1    부산 강서구            부산공항LPG충전소       부산 강서구 공항로 459             자동차충전   \n",
       "2    부산 강서구                신항만에너지     부산 강서구 낙동남로 507              자동차충전   \n",
       "3    부산 강서구  (주)지원네트웍스 부산강서LPG충전소     부산 강서구 낙동북로 310              자동차충전   \n",
       "4    부산 강서구                신명지에너지    부산 강서구 르노삼성대로 560             자동차충전   \n",
       "..      ...                   ...                  ...               ...   \n",
       "58   부산 연제구          부산개인택시엘피지충전소     부산 연제구 월드컵대로 399             자동차충전   \n",
       "59   부산 영도구              (주)태종에너지       부산 영도구 영선대로 41             자동차충전   \n",
       "60   부산 영도구                 부산에너지       부산 영도구 해양로 160  용기+자동차+탱크+13kg용기   \n",
       "61   부산 영도구         개인택시 영도LPG충전소       부산 영도구 해양로 296             자동차충전   \n",
       "62  부산 해운대구          이원 해운대LPG충전소    부산 해운대구 해운대로 1255  용기+자동차+탱크+13kg용기   \n",
       "\n",
       "           위도          경도      면적       공시지가  주변충전소 최단거리  \n",
       "0   35.198669  128.966594  2545.0  2144000.0    6.175720  \n",
       "1   35.149064  128.951891  3105.0  1174000.0    3.270797  \n",
       "2   35.112947  128.875260  3105.0  1174000.0    2.907968  \n",
       "3   35.212507  128.962572  1396.0  1140000.0    7.752939  \n",
       "4   35.097554  128.927351   481.0   700300.0    7.676891  \n",
       "..        ...         ...     ...        ...         ...  \n",
       "58  35.186013  129.055974  9212.0   688600.0    7.648635  \n",
       "59  35.084996  129.040033  1610.2  2679000.0    8.277014  \n",
       "60  35.091275  129.069484  5801.0   989400.0    9.604391  \n",
       "61  35.082176  129.076429  1818.0   349800.0   10.740567  \n",
       "62  35.196728  129.205260  3700.0  1607000.0   14.679740  \n",
       "\n",
       "[63 rows x 9 columns]"
      ]
     },
     "execution_count": 3,
     "metadata": {},
     "output_type": "execute_result"
    }
   ],
   "source": [
    "df_parkinglot"
   ]
  },
  {
   "cell_type": "code",
   "execution_count": 4,
   "metadata": {
    "collapsed": false,
    "pycharm": {
     "name": "#%%\n"
    }
   },
   "outputs": [],
   "source": [
    "parkinglot_group = df_parkinglot.groupby(\"행정구역\")\n",
    "df = parkinglot_group.get_group(\"부산 강서구\").loc[:, \"위도\":\"경도\"]\n",
    "parkinglot_name = parkinglot_group.get_group('부산 강서구').loc[:, \"업소명\"]"
   ]
  },
  {
   "cell_type": "code",
   "execution_count": 5,
   "metadata": {},
   "outputs": [
    {
     "data": {
      "text/plain": [
       "['개인택시신공항충전소',\n",
       " '부산공항LPG충전소',\n",
       " '신항만에너지',\n",
       " '(주)지원네트웍스 부산강서LPG충전소',\n",
       " '신명지에너지',\n",
       " '르노삼성자동차(주)',\n",
       " '(주)배성에너지 대저충전소',\n",
       " '죽림LPG충전소',\n",
       " '가락충전소']"
      ]
     },
     "execution_count": 5,
     "metadata": {},
     "output_type": "execute_result"
    }
   ],
   "source": [
    "parkinglot_name = list(dict.fromkeys(parkinglot_name))\n",
    "parkinglot_name"
   ]
  },
  {
   "cell_type": "code",
   "execution_count": 6,
   "metadata": {
    "collapsed": false,
    "pycharm": {
     "name": "#%%\n"
    }
   },
   "outputs": [],
   "source": [
    "lat = list(dict.fromkeys(df[\"위도\"].tolist()))\n",
    "lng = list(dict.fromkeys(df[\"경도\"].tolist()))"
   ]
  },
  {
   "cell_type": "code",
   "execution_count": 7,
   "metadata": {},
   "outputs": [
    {
     "name": "stdout",
     "output_type": "stream",
     "text": [
      "9 9 9\n"
     ]
    }
   ],
   "source": [
    "print(len(parkinglot_name), len(lat), len(lng))"
   ]
  },
  {
   "cell_type": "code",
   "execution_count": 8,
   "metadata": {
    "collapsed": false,
    "pycharm": {
     "name": "#%%\n"
    }
   },
   "outputs": [],
   "source": [
    "map_osm = folium.Map(location=[lat[1], lng[1]],\n",
    "                     zoom_start=12.5)\n"
   ]
  },
  {
   "cell_type": "code",
   "execution_count": 9,
   "metadata": {},
   "outputs": [],
   "source": [
    "html_dict = {}\n",
    "for name in parkinglot_name:\n",
    "    html_dict[f\"{name}\"] = f'''<body style=\"background-color:#A0B3C4;\">{name}<iframe src= \"final_fig.html\" style=\"background-color: #E9EEF6\" \" width=\"250\" height=\"220\" frameborder=\"0\" ></body>'''"
   ]
  },
  {
   "cell_type": "code",
   "execution_count": 10,
   "metadata": {},
   "outputs": [
    {
     "data": {
      "text/plain": [
       "{'개인택시신공항충전소': '<body style=\"background-color:#A0B3C4;\">개인택시신공항충전소<iframe src= \"final_fig.html\" style=\"background-color: #E9EEF6\" \" width=\"250\" height=\"220\" frameborder=\"0\" ></body>',\n",
       " '부산공항LPG충전소': '<body style=\"background-color:#A0B3C4;\">부산공항LPG충전소<iframe src= \"final_fig.html\" style=\"background-color: #E9EEF6\" \" width=\"250\" height=\"220\" frameborder=\"0\" ></body>',\n",
       " '신항만에너지': '<body style=\"background-color:#A0B3C4;\">신항만에너지<iframe src= \"final_fig.html\" style=\"background-color: #E9EEF6\" \" width=\"250\" height=\"220\" frameborder=\"0\" ></body>',\n",
       " '(주)지원네트웍스 부산강서LPG충전소': '<body style=\"background-color:#A0B3C4;\">(주)지원네트웍스 부산강서LPG충전소<iframe src= \"final_fig.html\" style=\"background-color: #E9EEF6\" \" width=\"250\" height=\"220\" frameborder=\"0\" ></body>',\n",
       " '신명지에너지': '<body style=\"background-color:#A0B3C4;\">신명지에너지<iframe src= \"final_fig.html\" style=\"background-color: #E9EEF6\" \" width=\"250\" height=\"220\" frameborder=\"0\" ></body>',\n",
       " '르노삼성자동차(주)': '<body style=\"background-color:#A0B3C4;\">르노삼성자동차(주)<iframe src= \"final_fig.html\" style=\"background-color: #E9EEF6\" \" width=\"250\" height=\"220\" frameborder=\"0\" ></body>',\n",
       " '(주)배성에너지 대저충전소': '<body style=\"background-color:#A0B3C4;\">(주)배성에너지 대저충전소<iframe src= \"final_fig.html\" style=\"background-color: #E9EEF6\" \" width=\"250\" height=\"220\" frameborder=\"0\" ></body>',\n",
       " '죽림LPG충전소': '<body style=\"background-color:#A0B3C4;\">죽림LPG충전소<iframe src= \"final_fig.html\" style=\"background-color: #E9EEF6\" \" width=\"250\" height=\"220\" frameborder=\"0\" ></body>',\n",
       " '가락충전소': '<body style=\"background-color:#A0B3C4;\">가락충전소<iframe src= \"final_fig.html\" style=\"background-color: #E9EEF6\" \" width=\"250\" height=\"220\" frameborder=\"0\" ></body>'}"
      ]
     },
     "execution_count": 10,
     "metadata": {},
     "output_type": "execute_result"
    }
   ],
   "source": [
    "html_dict"
   ]
  },
  {
   "cell_type": "code",
   "execution_count": 11,
   "metadata": {
    "collapsed": false,
    "pycharm": {
     "name": "#%%\n"
    }
   },
   "outputs": [],
   "source": [
    "html = '''<body style=\"background-color:#A0B3C4;\">\n",
    "        여긴 어디입니다.\n",
    "        <iframe src=\"final_fig.html\" style=\"background-color: #E9EEF6\" font-family:'NanumSquarel;' \" width=\"250\" height=\"220\" frameborder=\"0\" >\n",
    "        </body>\n",
    "        '''"
   ]
  },
  {
   "cell_type": "code",
   "execution_count": 12,
   "metadata": {},
   "outputs": [
    {
     "name": "stdout",
     "output_type": "stream",
     "text": [
      "9\n"
     ]
    }
   ],
   "source": [
    "print(len(lat))"
   ]
  },
  {
   "cell_type": "code",
   "execution_count": 13,
   "metadata": {
    "collapsed": false,
    "pycharm": {
     "name": "#%%\n"
    }
   },
   "outputs": [],
   "source": [
    "for i,key in enumerate(html_dict):\n",
    "\n",
    "    iframe = folium.IFrame(html_dict[key],\n",
    "                           width=100,\n",
    "                           height=100)\n",
    "\n",
    "    popup = folium.Popup(folium.Html(html_dict[key], script=True, width=250, height=250))\n",
    "    folium.Marker(location=[lat[i], lng[i]], popup=popup).add_to(map_osm)"
   ]
  },
  {
   "cell_type": "code",
   "execution_count": 14,
   "metadata": {},
   "outputs": [],
   "source": [
    "# iframe = folium.IFrame(html,\n",
    "#                            width=100,\n",
    "#                            height=100)\n",
    "\n",
    "#     popup = folium.Popup(folium.Html(html, script=True, width=250, height=250))\n",
    "#     folium.Marker(location=[lat[i], lng[i]], popup=popup).add_to(map_osm)"
   ]
  },
  {
   "cell_type": "code",
   "execution_count": 15,
   "metadata": {
    "collapsed": false,
    "pycharm": {
     "name": "#%%\n"
    }
   },
   "outputs": [],
   "source": [
    "map_osm.save(\"LPG_map.html\")"
   ]
  }
 ],
 "metadata": {
  "kernelspec": {
   "display_name": "Python 3.10.5 ('GVCS')",
   "language": "python",
   "name": "python3"
  },
  "language_info": {
   "codemirror_mode": {
    "name": "ipython",
    "version": 3
   },
   "file_extension": ".py",
   "mimetype": "text/x-python",
   "name": "python",
   "nbconvert_exporter": "python",
   "pygments_lexer": "ipython3",
   "version": "3.10.5"
  },
  "vscode": {
   "interpreter": {
    "hash": "7a3dd6607b54f89ce9aa31996fc687439867847852913099c302f9f4f8e83634"
   }
  }
 },
 "nbformat": 4,
 "nbformat_minor": 0
}