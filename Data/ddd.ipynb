{
 "cells": [
  {
   "cell_type": "code",
   "execution_count": null,
   "metadata": {
    "collapsed": true
   },
   "outputs": [],
   "source": [
    "import pandas as pd\n",
    "import folium"
   ]
  },
  {
   "cell_type": "code",
   "execution_count": null,
   "outputs": [],
   "source": [
    "df_parkinglot = pd.read_csv(\"부산 주차장 현황(교차로).csv\", encoding='cp949')\n",
    "df_parkinglot"
   ],
   "metadata": {
    "collapsed": false,
    "pycharm": {
     "name": "#%%\n"
    }
   }
  },
  {
   "cell_type": "code",
   "execution_count": null,
   "outputs": [],
   "source": [
    "parkinglot_group = df_parkinglot.groupby(\"관리기관명\")\n",
    "df = parkinglot_group.get_group(\"부산광역시 부산진구청\").loc[:, \"위도\":\"경도\"]\n"
   ],
   "metadata": {
    "collapsed": false,
    "pycharm": {
     "name": "#%%\n"
    }
   }
  },
  {
   "cell_type": "code",
   "execution_count": null,
   "outputs": [],
   "source": [
    "lat = df[\"위도\"].tolist()\n",
    "lng = df[\"경도\"].tolist()"
   ],
   "metadata": {
    "collapsed": false,
    "pycharm": {
     "name": "#%%\n"
    }
   }
  },
  {
   "cell_type": "code",
   "execution_count": null,
   "outputs": [],
   "source": [
    "map_osm = folium.Map(location=[lat[1], lng[1]],\n",
    "                     zoom_start=15)\n",
    "\n",
    "map_osm"
   ],
   "metadata": {
    "collapsed": false,
    "pycharm": {
     "name": "#%%\n"
    }
   }
  },
  {
   "cell_type": "code",
   "execution_count": null,
   "outputs": [],
   "source": [
    "html_dict = {\"1\":'''<body style=\"background-color:#A0B3C4;\">\n",
    "        <iframe src=\"final_fig.html\" style=\"background-color: #E9EEF6 \"font-family:'NanumSquare'; \" width=\"250\" height=\"250\" frameborder=\"0\" >\n",
    "        </body>\n",
    "        ''',\n",
    "             \"2\":'''<body style=\"background-color:#A0B3C4;\">\n",
    "        <iframe src=\"final_fig.html\" style=\"background-color: #E9EEF6\" \" width=\"250\" height=\"250\" frameborder=\"3\" >\n",
    "        </body>\n",
    "        ''',\n",
    "             \"3\":'''<body style=\"background-color:#A0B3C4;\">\n",
    "        <iframe src=\"final_fig.html\" style=\"background-color: #E9EEF6\" \" width=\"250\" height=\"250\" frameborder=\"10\" >\n",
    "        </body>\n",
    "        ''',     }"
   ],
   "metadata": {
    "collapsed": false,
    "pycharm": {
     "name": "#%%\n"
    }
   }
  },
  {
   "cell_type": "code",
   "execution_count": null,
   "outputs": [],
   "source": [
    "html = '''<body style=\"background-color:#A0B3C4;\">\n",
    "        여긴 어디입니다.\n",
    "        <iframe src=\"final_fig.html\" style=\"background-color: #E9EEF6\" font-family:'NanumSquarel;' \" width=\"250\" height=\"250\" frameborder=\"0\" >\n",
    "        </body>\n",
    "        '''"
   ],
   "metadata": {
    "collapsed": false,
    "pycharm": {
     "name": "#%%\n"
    }
   }
  },
  {
   "cell_type": "code",
   "execution_count": null,
   "outputs": [],
   "source": [
    "for i in range(0, len(lat)):\n",
    "\n",
    "    iframe = folium.IFrame(html,\n",
    "                           width=100,\n",
    "                           height=100)\n",
    "\n",
    "    popup = folium.Popup(folium.Html(html, script=True, width=250, height=250))\n",
    "    folium.Marker(location=[lat[i], lng[i]], popup=popup).add_to(map_osm)"
   ],
   "metadata": {
    "collapsed": false,
    "pycharm": {
     "name": "#%%\n"
    }
   }
  },
  {
   "cell_type": "code",
   "execution_count": null,
   "outputs": [],
   "source": [
    "map_osm.save(\"map.html\")"
   ],
   "metadata": {
    "collapsed": false,
    "pycharm": {
     "name": "#%%\n"
    }
   }
  }
 ],
 "metadata": {
  "kernelspec": {
   "display_name": "Python 3",
   "language": "python",
   "name": "python3"
  },
  "language_info": {
   "codemirror_mode": {
    "name": "ipython",
    "version": 2
   },
   "file_extension": ".py",
   "mimetype": "text/x-python",
   "name": "python",
   "nbconvert_exporter": "python",
   "pygments_lexer": "ipython2",
   "version": "2.7.6"
  }
 },
 "nbformat": 4,
 "nbformat_minor": 0
}